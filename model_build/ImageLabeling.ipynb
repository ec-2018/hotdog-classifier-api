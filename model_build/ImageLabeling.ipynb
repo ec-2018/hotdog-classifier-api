{
 "cells": [
  {
   "cell_type": "markdown",
   "id": "3a3953c4",
   "metadata": {},
   "source": [
    "# Notebook for Labeling Images"
   ]
  },
  {
   "cell_type": "markdown",
   "id": "603afbd9",
   "metadata": {},
   "source": [
    "## Install Dependecies"
   ]
  },
  {
   "cell_type": "code",
   "execution_count": 20,
   "id": "c4e30988",
   "metadata": {
    "scrolled": true
   },
   "outputs": [
    {
     "name": "stdout",
     "output_type": "stream",
     "text": [
      "Requirement already satisfied: opencv-python in c:\\users\\ec201\\anaconda3\\lib\\site-packages (4.5.5.62)\n",
      "Requirement already satisfied: numpy>=1.19.3 in c:\\users\\ec201\\anaconda3\\lib\\site-packages (from opencv-python) (1.20.3)\n",
      "Requirement already satisfied: pyqt5 in c:\\users\\ec201\\anaconda3\\lib\\site-packages (5.15.6)\n",
      "Requirement already satisfied: lxml in c:\\users\\ec201\\anaconda3\\lib\\site-packages (4.7.1)\n",
      "Requirement already satisfied: PyQt5-Qt5>=5.15.2 in c:\\users\\ec201\\anaconda3\\lib\\site-packages (from pyqt5) (5.15.2)\n",
      "Requirement already satisfied: PyQt5-sip<13,>=12.8 in c:\\users\\ec201\\anaconda3\\lib\\site-packages (from pyqt5) (12.9.0)\n"
     ]
    }
   ],
   "source": [
    "!pip install --upgrade pyqt5 lxml"
   ]
  },
  {
   "cell_type": "markdown",
   "id": "0e829c18",
   "metadata": {},
   "source": [
    "## Import Libraries"
   ]
  },
  {
   "cell_type": "code",
   "execution_count": 65,
   "id": "366c3029",
   "metadata": {},
   "outputs": [],
   "source": [
    "import os\n",
    "import random"
   ]
  },
  {
   "cell_type": "markdown",
   "id": "26d8e2d1",
   "metadata": {},
   "source": [
    "## Make/Populate Image Directory"
   ]
  },
  {
   "cell_type": "code",
   "execution_count": 10,
   "id": "7de1c77e",
   "metadata": {},
   "outputs": [],
   "source": [
    "IMG_DIR = os.path.join('images')\n",
    "if not os.path.exists(IMG_DIR):\n",
    "    !mkdir {IMG_DIR}"
   ]
  },
  {
   "cell_type": "markdown",
   "id": "780eda5d",
   "metadata": {},
   "source": [
    "All the images should be places into the model_build/images directory. The num_images variable below should be set to the total number of images used. "
   ]
  },
  {
   "cell_type": "code",
   "execution_count": 8,
   "id": "c689531f",
   "metadata": {},
   "outputs": [],
   "source": [
    "label = 'HotDog'\n",
    "num_imgs = 95"
   ]
  },
  {
   "cell_type": "markdown",
   "id": "3aab6d71",
   "metadata": {},
   "source": [
    "## Randomly Split Into Training and Testing Images"
   ]
  },
  {
   "cell_type": "code",
   "execution_count": 22,
   "id": "9c34e564",
   "metadata": {},
   "outputs": [],
   "source": [
    "TRAIN_DIR = os.path.join(IMG_DIR,'train')\n",
    "TEST_DIR = os.path.join(IMG_DIR, 'test')\n",
    "if not os.path.exists(TRAIN_DIR):\n",
    "    !mkdir {TRAIN_DIR}\n",
    "if not os.path.exists(TEST_DIR):\n",
    "    !mkdir {TEST_DIR}"
   ]
  },
  {
   "cell_type": "code",
   "execution_count": 30,
   "id": "3c693d06",
   "metadata": {},
   "outputs": [],
   "source": [
    "testing_p = 0.1\n",
    "NUM_TEST = round(testing_p * num_imgs)\n",
    "NUM_TRAIN = num_imgs - NUM_TEST"
   ]
  },
  {
   "cell_type": "code",
   "execution_count": 56,
   "id": "272544a6",
   "metadata": {},
   "outputs": [],
   "source": [
    "movedImgs = 0\n",
    "while (NUM_TEST > movedImgs):\n",
    "    TEST_IMG = os.path.join(IMG_DIR, random.choice(os.listdir(IMG_DIR)))\n",
    "    if os.path.isdir(TEST_IMG):\n",
    "        continue\n",
    "    command = \"mv \\\"\" + TEST_IMG  + \"\\\" \" + TEST_DIR \n",
    "    # print(command)\n",
    "    !{command}\n",
    "    movedImgs+=1\n",
    "for f in os.listdir(IMG_DIR):\n",
    "    TRAIN_IMG = os.path.join(IMG_DIR, f)\n",
    "    if os.path.isdir(TRAIN_IMG):\n",
    "        continue\n",
    "    command = \"mv \\\"\" + TRAIN_IMG  + \"\\\" \" + TRAIN_DIR \n",
    "    # print(command)\n",
    "    !{command}"
   ]
  },
  {
   "cell_type": "markdown",
   "id": "9d3df14b",
   "metadata": {},
   "source": [
    "## Install and Build LabelImg"
   ]
  },
  {
   "cell_type": "code",
   "execution_count": 14,
   "id": "8db356ff",
   "metadata": {
    "scrolled": true
   },
   "outputs": [
    {
     "name": "stderr",
     "output_type": "stream",
     "text": [
      "Cloning into 'labelimg'...\n"
     ]
    }
   ],
   "source": [
    "LABELIMG_DIR = os.path.join('labelimg')\n",
    "if not os.path.exists(LABELIMG_DIR):\n",
    "    !mkdir {LABELIMG_DIR}\n",
    "    !git clone https://github.com/tzutalin/labelImg {LABELIMG_DIR}"
   ]
  },
  {
   "cell_type": "markdown",
   "id": "c02363d3",
   "metadata": {},
   "source": [
    "The following two commands are take from the labelImg README. They are used to build on the **WINDOWS** OS and require the conda build of python. Look at the LabelImg Github repository for build intructions for other operating systems.  "
   ]
  },
  {
   "cell_type": "code",
   "execution_count": 21,
   "id": "7d475b7f",
   "metadata": {},
   "outputs": [],
   "source": [
    "!cd {LABELIMG_DIR} && pyrcc5 -o libs/resources.py resources.qrc"
   ]
  },
  {
   "cell_type": "markdown",
   "id": "31dcb938",
   "metadata": {},
   "source": [
    "## Run LabelImg "
   ]
  },
  {
   "cell_type": "code",
   "execution_count": 57,
   "id": "1afffeca",
   "metadata": {},
   "outputs": [
    {
     "name": "stdout",
     "output_type": "stream",
     "text": [
      "Image:C:\\Users\\ec201\\Desktop\\hotdog-classifer-api\\model_build\\images\\test\\Bacon-Wrapped Hot Dogs Recipe_ How to....jpg -> Annotation:C:/Users/ec201/Desktop/hotdog-classifer-api/model_build/images/test/Bacon-Wrapped Hot Dogs Recipe_ How to....xml"
     ]
    },
    {
     "name": "stderr",
     "output_type": "stream",
     "text": [
      "C:\\Users\\ec201\\Desktop\\hotdog-classifer-api\\model_build\\labelimg\\labelImg.py:971: DeprecationWarning: an integer is required (got type float).  Implicit conversion to integers using __int__ is deprecated, and may be removed in a future version of Python.\n",
      "  self.zoom_widget.setValue(value)\n",
      "C:\\Users\\ec201\\Desktop\\hotdog-classifer-api\\model_build\\labelimg\\labelImg.py:1025: DeprecationWarning: an integer is required (got type float).  Implicit conversion to integers using __int__ is deprecated, and may be removed in a future version of Python.\n",
      "  h_bar.setValue(new_h_bar_value)\n",
      "C:\\Users\\ec201\\Desktop\\hotdog-classifer-api\\model_build\\labelimg\\labelImg.py:1026: DeprecationWarning: an integer is required (got type float).  Implicit conversion to integers using __int__ is deprecated, and may be removed in a future version of Python.\n",
      "  v_bar.setValue(new_v_bar_value)\n",
      "qt.gui.icc: fromIccProfile: failed minimal tag size sanity\n",
      "qt.gui.icc: fromIccProfile: failed minimal tag size sanity\n",
      "qt.gui.icc: fromIccProfile: failed minimal tag size sanity\n",
      "qt.gui.icc: fromIccProfile: failed minimal tag size sanity\n",
      "qt.gui.icc: fromIccProfile: failed minimal tag size sanity\n",
      "qt.gui.icc: fromIccProfile: failed minimal tag size sanity\n",
      "qt.gui.icc: fromIccProfile: failed minimal tag size sanity\n",
      "qt.gui.icc: fromIccProfile: failed minimal tag size sanity\n",
      "qt.gui.icc: fromIccProfile: failed minimal tag size sanity\n",
      "qt.gui.icc: fromIccProfile: failed minimal tag size sanity\n",
      "qt.gui.icc: fromIccProfile: failed minimal tag size sanity\n",
      "qt.gui.icc: fromIccProfile: failed minimal tag size sanity\n",
      "qt.gui.icc: fromIccProfile: failed minimal tag size sanity\n",
      "qt.gui.icc: fromIccProfile: failed minimal tag size sanity\n",
      "qt.gui.icc: fromIccProfile: failed minimal tag size sanity\n",
      "qt.gui.icc: fromIccProfile: failed minimal tag size sanity\n",
      "qt.gui.icc: fromIccProfile: failed minimal tag size sanity\n",
      "qt.gui.icc: fromIccProfile: failed minimal tag size sanity\n",
      "qt.gui.icc: fromIccProfile: failed minimal tag size sanity\n",
      "qt.gui.icc: fromIccProfile: failed minimal tag size sanity\n",
      "qt.gui.icc: fromIccProfile: failed minimal tag size sanity\n",
      "qt.gui.icc: fromIccProfile: failed minimal tag size sanity\n",
      "qt.gui.icc: fromIccProfile: failed minimal tag size sanity\n",
      "qt.gui.icc: fromIccProfile: failed minimal tag size sanity\n",
      "qt.gui.icc: fromIccProfile: failed minimal tag size sanity\n",
      "qt.gui.icc: fromIccProfile: failed minimal tag size sanity\n",
      "qt.gui.icc: fromIccProfile: failed minimal tag size sanity\n",
      "qt.gui.icc: fromIccProfile: failed minimal tag size sanity\n",
      "qt.gui.icc: fromIccProfile: failed minimal tag size sanity\n",
      "qt.gui.icc: fromIccProfile: failed minimal tag size sanity\n",
      "qt.gui.icc: fromIccProfile: failed minimal tag size sanity\n",
      "qt.gui.icc: fromIccProfile: failed minimal tag size sanity\n",
      "qt.gui.icc: fromIccProfile: failed minimal tag size sanity\n",
      "qt.gui.icc: fromIccProfile: failed minimal tag size sanity\n",
      "qt.gui.icc: fromIccProfile: failed minimal tag size sanity\n",
      "qt.gui.icc: fromIccProfile: failed minimal tag size sanity\n",
      "qt.gui.icc: fromIccProfile: failed minimal tag size sanity\n",
      "qt.gui.icc: fromIccProfile: failed minimal tag size sanity\n",
      "qt.gui.icc: fromIccProfile: failed minimal tag size sanity\n",
      "qt.gui.icc: fromIccProfile: failed minimal tag size sanity\n",
      "qt.gui.icc: fromIccProfile: failed minimal tag size sanity\n",
      "qt.gui.icc: fromIccProfile: failed minimal tag size sanity\n",
      "qt.gui.icc: fromIccProfile: failed minimal tag size sanity\n",
      "qt.gui.icc: fromIccProfile: failed minimal tag size sanity\n",
      "qt.gui.icc: fromIccProfile: failed minimal tag size sanity\n",
      "qt.gui.icc: fromIccProfile: failed minimal tag size sanity\n",
      "qt.gui.icc: fromIccProfile: failed minimal tag size sanity\n",
      "qt.gui.icc: fromIccProfile: failed minimal tag size sanity\n"
     ]
    },
    {
     "name": "stdout",
     "output_type": "stream",
     "text": [
      "\n",
      "Cancel creation.\n",
      "Image:C:\\Users\\ec201\\Desktop\\hotdog-classifer-api\\model_build\\images\\test\\Buffalo Chicken Hot Dog - i am baker.jpg -> Annotation:C:/Users/ec201/Desktop/hotdog-classifer-api/model_build/images/test/Buffalo Chicken Hot Dog - i am baker.xml\n",
      "Image:C:\\Users\\ec201\\Desktop\\hotdog-classifer-api\\model_build\\images\\test\\Chili Dogs _ Kitchn.jpg -> Annotation:C:/Users/ec201/Desktop/hotdog-classifer-api/model_build/images/test/Chili Dogs _ Kitchn.xml\n",
      "Image:C:\\Users\\ec201\\Desktop\\hotdog-classifer-api\\model_build\\images\\test\\How to Boil Hot Dogs in 10 Minutes -....jpg -> Annotation:C:/Users/ec201/Desktop/hotdog-classifer-api/model_build/images/test/How to Boil Hot Dogs in 10 Minutes -....xml\n",
      "Image:C:\\Users\\ec201\\Desktop\\hotdog-classifer-api\\model_build\\images\\test\\How To Cook Hot Dogs _ Life Tastes Good.jpg -> Annotation:C:/Users/ec201/Desktop/hotdog-classifer-api/model_build/images/test/How To Cook Hot Dogs _ Life Tastes Good.xml\n",
      "Image:C:\\Users\\ec201\\Desktop\\hotdog-classifer-api\\model_build\\images\\test\\How to Cook the Perfect Hot Dog Recipe....jpg -> Annotation:C:/Users/ec201/Desktop/hotdog-classifer-api/model_build/images/test/How to Cook the Perfect Hot Dog Recipe....xml\n",
      "Image:C:\\Users\\ec201\\Desktop\\hotdog-classifer-api\\model_build\\images\\test\\Marinated Grilled Hot Dogs - Plain Chicken.jpg -> Annotation:C:/Users/ec201/Desktop/hotdog-classifer-api/model_build/images/test/Marinated Grilled Hot Dogs - Plain Chicken.xml\n",
      "Image:C:\\Users\\ec201\\Desktop\\hotdog-classifer-api\\model_build\\images\\test\\Oven Roasted Hot Dogs Recipe - Food.com.jpg -> Annotation:C:/Users/ec201/Desktop/hotdog-classifer-api/model_build/images/test/Oven Roasted Hot Dogs Recipe - Food.com.xml\n",
      "Image:C:\\Users\\ec201\\Desktop\\hotdog-classifer-api\\model_build\\images\\test\\Report_ Human DNA found in hot dogs.jpg -> Annotation:C:/Users/ec201/Desktop/hotdog-classifer-api/model_build/images/test/Report_ Human DNA found in hot dogs.xml\n",
      "Image:C:\\Users\\ec201\\Desktop\\hotdog-classifer-api\\model_build\\images\\test\\Seattle Hot Dog.jpg -> Annotation:C:/Users/ec201/Desktop/hotdog-classifer-api/model_build/images/test/Seattle Hot Dog.xml\n",
      "Image:C:\\Users\\ec201\\Desktop\\hotdog-classifer-api\\model_build\\images\\train\\4 Levels of Hot Dogs_ Amateur to Food....jpg -> Annotation:C:/Users/ec201/Desktop/hotdog-classifer-api/model_build/images/train/4 Levels of Hot Dogs_ Amateur to Food....xml\n",
      "Image:C:\\Users\\ec201\\Desktop\\hotdog-classifer-api\\model_build\\images\\train\\16 Hot Dog Toppings Better Than Ketchup....jpg -> Annotation:C:/Users/ec201/Desktop/hotdog-classifer-api/model_build/images/train/16 Hot Dog Toppings Better Than Ketchup....xml\n",
      "Image:C:\\Users\\ec201\\Desktop\\hotdog-classifer-api\\model_build\\images\\train\\A Recipe to Make Homemade Hot Dogs.jpg -> Annotation:C:/Users/ec201/Desktop/hotdog-classifer-api/model_build/images/train/A Recipe to Make Homemade Hot Dogs.xml\n",
      "Image:C:\\Users\\ec201\\Desktop\\hotdog-classifer-api\\model_build\\images\\train\\Air Fryer Hot Dog Recipe.jpg -> Annotation:C:/Users/ec201/Desktop/hotdog-classifer-api/model_build/images/train/Air Fryer Hot Dog Recipe.xml\n",
      "Image:C:\\Users\\ec201\\Desktop\\hotdog-classifer-api\\model_build\\images\\train\\Air Fryer Hot Dogs - Basil And Bubbly.jpg -> Annotation:C:/Users/ec201/Desktop/hotdog-classifer-api/model_build/images/train/Air Fryer Hot Dogs - Basil And Bubbly.xml\n",
      "Image:C:\\Users\\ec201\\Desktop\\hotdog-classifer-api\\model_build\\images\\train\\Air Fryer Hot Dogs - Gal on a Mission.jpg -> Annotation:C:/Users/ec201/Desktop/hotdog-classifer-api/model_build/images/train/Air Fryer Hot Dogs - Gal on a Mission.xml\n",
      "Image:C:\\Users\\ec201\\Desktop\\hotdog-classifer-api\\model_build\\images\\train\\Air Fryer Hot Dogs in 6 minutes (as....jpg -> Annotation:C:/Users/ec201/Desktop/hotdog-classifer-api/model_build/images/train/Air Fryer Hot Dogs in 6 minutes (as....xml\n",
      "Image:C:\\Users\\ec201\\Desktop\\hotdog-classifer-api\\model_build\\images\\train\\Air Fryer Hot Dogs taste just like....jpg -> Annotation:C:/Users/ec201/Desktop/hotdog-classifer-api/model_build/images/train/Air Fryer Hot Dogs taste just like....xml\n",
      "Image:C:\\Users\\ec201\\Desktop\\hotdog-classifer-api\\model_build\\images\\train\\All Beef Hot Dogs - Jumbo Beef Hot Dogs_yyth....jpg -> Annotation:C:/Users/ec201/Desktop/hotdog-classifer-api/model_build/images/train/All Beef Hot Dogs - Jumbo Beef Hot Dogs_yyth....xml\n",
      "Image:C:\\Users\\ec201\\Desktop\\hotdog-classifer-api\\model_build\\images\\train\\Bacon Wrapped Cheese Hot Dogs _ Barbara....jpg -> Annotation:C:/Users/ec201/Desktop/hotdog-classifer-api/model_build/images/train/Bacon Wrapped Cheese Hot Dogs _ Barbara....xml\n",
      "Image:C:\\Users\\ec201\\Desktop\\hotdog-classifer-api\\model_build\\images\\train\\Basic Air Fryer Hot Dogs Recipe....jpg -> Annotation:C:/Users/ec201/Desktop/hotdog-classifer-api/model_build/images/train/Basic Air Fryer Hot Dogs Recipe....xml\n",
      "Image:C:\\Users\\ec201\\Desktop\\hotdog-classifer-api\\model_build\\images\\train\\Beef Hot Dogs _ Ball Park® Brand.png -> Annotation:C:/Users/ec201/Desktop/hotdog-classifer-api/model_build/images/train/Beef Hot Dogs _ Ball Park® Brand.xml\n",
      "Image:C:\\Users\\ec201\\Desktop\\hotdog-classifer-api\\model_build\\images\\train\\Best Air Fryer Hot Dogs Recipe - How To_yyth....jpg -> Annotation:C:/Users/ec201/Desktop/hotdog-classifer-api/model_build/images/train/Best Air Fryer Hot Dogs Recipe - How To_yyth....xml\n",
      "Image:C:\\Users\\ec201\\Desktop\\hotdog-classifer-api\\model_build\\images\\train\\Best Chipotle Chili Dogs - How to Make....jpg -> Annotation:C:/Users/ec201/Desktop/hotdog-classifer-api/model_build/images/train/Best Chipotle Chili Dogs - How to Make....xml\n",
      "Cancel creation.\n",
      "Image:C:\\Users\\ec201\\Desktop\\hotdog-classifer-api\\model_build\\images\\train\\Best Deep Fried Hot Dogs Recipe - How....jpg -> Annotation:C:/Users/ec201/Desktop/hotdog-classifer-api/model_build/images/train/Best Deep Fried Hot Dogs Recipe - How....xml\n",
      "Image:C:\\Users\\ec201\\Desktop\\hotdog-classifer-api\\model_build\\images\\train\\Best Hot Dog Recipes - Weekend at the....jpg -> Annotation:C:/Users/ec201/Desktop/hotdog-classifer-api/model_build/images/train/Best Hot Dog Recipes - Weekend at the....xml\n",
      "Cancel creation.\n",
      "Image:C:\\Users\\ec201\\Desktop\\hotdog-classifer-api\\model_build\\images\\train\\Best Vegan Hot Dogs - The Cheeky Chickpea.jpg -> Annotation:C:/Users/ec201/Desktop/hotdog-classifer-api/model_build/images/train/Best Vegan Hot Dogs - The Cheeky Chickpea.xml\n",
      "Image:C:\\Users\\ec201\\Desktop\\hotdog-classifer-api\\model_build\\images\\train\\Bloody Finger Hot Dogs Recipe for....jpg -> Annotation:C:/Users/ec201/Desktop/hotdog-classifer-api/model_build/images/train/Bloody Finger Hot Dogs Recipe for....xml\n",
      "Cancel creation.\n",
      "Image:C:\\Users\\ec201\\Desktop\\hotdog-classifer-api\\model_build\\images\\train\\Bubba_ has served hot dogs in Sea Isle....webp -> Annotation:C:/Users/ec201/Desktop/hotdog-classifer-api/model_build/images/train/Bubba_ has served hot dogs in Sea Isle....xml\n",
      "Image:C:\\Users\\ec201\\Desktop\\hotdog-classifer-api\\model_build\\images\\train\\Cheese-Stuffed Hot Dogs with Spicy....jpg -> Annotation:C:/Users/ec201/Desktop/hotdog-classifer-api/model_build/images/train/Cheese-Stuffed Hot Dogs with Spicy....xml\n",
      "Image:C:\\Users\\ec201\\Desktop\\hotdog-classifer-api\\model_build\\images\\train\\Chicago Hot Dogs Recipe.jpg -> Annotation:C:/Users/ec201/Desktop/hotdog-classifer-api/model_build/images/train/Chicago Hot Dogs Recipe.xml\n",
      "Image:C:\\Users\\ec201\\Desktop\\hotdog-classifer-api\\model_build\\images\\train\\Chili dog - Wikipedia.jpg -> Annotation:C:/Users/ec201/Desktop/hotdog-classifer-api/model_build/images/train/Chili dog - Wikipedia.xml\n",
      "Image:C:\\Users\\ec201\\Desktop\\hotdog-classifer-api\\model_build\\images\\train\\Chili Dog Recipe.jpg -> Annotation:C:/Users/ec201/Desktop/hotdog-classifer-api/model_build/images/train/Chili Dog Recipe.xml\n",
      "Image:C:\\Users\\ec201\\Desktop\\hotdog-classifer-api\\model_build\\images\\train\\Chipotle Chili Dogs Recipe_ How to Make It.jpg -> Annotation:C:/Users/ec201/Desktop/hotdog-classifer-api/model_build/images/train/Chipotle Chili Dogs Recipe_ How to Make It.xml\n",
      "Image:C:\\Users\\ec201\\Desktop\\hotdog-classifer-api\\model_build\\images\\train\\Chorizo-and-Kimchi Dogs Recipe....jpg -> Annotation:C:/Users/ec201/Desktop/hotdog-classifer-api/model_build/images/train/Chorizo-and-Kimchi Dogs Recipe....xml\n",
      "Image:C:\\Users\\ec201\\Desktop\\hotdog-classifer-api\\model_build\\images\\train\\Classic Chicago Hot Dog _ Emerils.com.jpg -> Annotation:C:/Users/ec201/Desktop/hotdog-classifer-api/model_build/images/train/Classic Chicago Hot Dog _ Emerils.com.xml\n",
      "Image:C:\\Users\\ec201\\Desktop\\hotdog-classifer-api\\model_build\\images\\train\\Classic Hot Dog - Martin_s Famous....jpg -> Annotation:C:/Users/ec201/Desktop/hotdog-classifer-api/model_build/images/train/Classic Hot Dog - Martin_s Famous....xml\n",
      "Image:C:\\Users\\ec201\\Desktop\\hotdog-classifer-api\\model_build\\images\\train\\Coney Island Hot Dogs - Taste and Tell.jpg -> Annotation:C:/Users/ec201/Desktop/hotdog-classifer-api/model_build/images/train/Coney Island Hot Dogs - Taste and Tell.xml\n",
      "Cancel creation.\n",
      "Image:C:\\Users\\ec201\\Desktop\\hotdog-classifer-api\\model_build\\images\\train\\Create an All-American Hot Dog Bar for....jpg -> Annotation:C:/Users/ec201/Desktop/hotdog-classifer-api/model_build/images/train/Create an All-American Hot Dog Bar for....xml\n",
      "Image:C:\\Users\\ec201\\Desktop\\hotdog-classifer-api\\model_build\\images\\train\\Crunchy Air Fryer Hot Dogs - Little....jpg -> Annotation:C:/Users/ec201/Desktop/hotdog-classifer-api/model_build/images/train/Crunchy Air Fryer Hot Dogs - Little....xml\n",
      "Cancel creation.\n",
      "Image:C:\\Users\\ec201\\Desktop\\hotdog-classifer-api\\model_build\\images\\train\\Dog House _ Crafted Hot Dogs _ Royal....jpg -> Annotation:C:/Users/ec201/Desktop/hotdog-classifer-api/model_build/images/train/Dog House _ Crafted Hot Dogs _ Royal....xml\n",
      "Image:C:\\Users\\ec201\\Desktop\\hotdog-classifer-api\\model_build\\images\\train\\Easy Air Fryer Hot Dogs - A Southern Soul.jpg -> Annotation:C:/Users/ec201/Desktop/hotdog-classifer-api/model_build/images/train/Easy Air Fryer Hot Dogs - A Southern Soul.xml\n",
      "Image:C:\\Users\\ec201\\Desktop\\hotdog-classifer-api\\model_build\\images\\train\\equal-sized packs of hot dogs and buns.jpg -> Annotation:C:/Users/ec201/Desktop/hotdog-classifer-api/model_build/images/train/equal-sized packs of hot dogs and buns.xml\n",
      "Cancel creation.\n",
      "Cancel creation.\n",
      "Image:C:\\Users\\ec201\\Desktop\\hotdog-classifer-api\\model_build\\images\\train\\Fifty-Eight Ideas for Hot Dog Toppings _ GQ.jpg -> Annotation:C:/Users/ec201/Desktop/hotdog-classifer-api/model_build/images/train/Fifty-Eight Ideas for Hot Dog Toppings _ GQ.xml\n",
      "Image:C:\\Users\\ec201\\Desktop\\hotdog-classifer-api\\model_build\\images\\train\\Flaming Hot Cheetos Hot Dogs - Flaming....jpg -> Annotation:C:/Users/ec201/Desktop/hotdog-classifer-api/model_build/images/train/Flaming Hot Cheetos Hot Dogs - Flaming....xml\n",
      "Image:C:\\Users\\ec201\\Desktop\\hotdog-classifer-api\\model_build\\images\\train\\Food Lovin_ Family - Easy_ family....jpg -> Annotation:C:/Users/ec201/Desktop/hotdog-classifer-api/model_build/images/train/Food Lovin_ Family - Easy_ family....xml\n",
      "Image:C:\\Users\\ec201\\Desktop\\hotdog-classifer-api\\model_build\\images\\train\\Frank & Beans Recipe _ Martha Stewart.jpg -> Annotation:C:/Users/ec201/Desktop/hotdog-classifer-api/model_build/images/train/Frank & Beans Recipe _ Martha Stewart.xml\n",
      "Image:C:\\Users\\ec201\\Desktop\\hotdog-classifer-api\\model_build\\images\\train\\French Onion Hot Dogs - Girl Gone Gourmet.jpg -> Annotation:C:/Users/ec201/Desktop/hotdog-classifer-api/model_build/images/train/French Onion Hot Dogs - Girl Gone Gourmet.xml\n",
      "Image:C:\\Users\\ec201\\Desktop\\hotdog-classifer-api\\model_build\\images\\train\\Gourmet Hot Dogs Recipes - Brit _ Co.jpg -> Annotation:C:/Users/ec201/Desktop/hotdog-classifer-api/model_build/images/train/Gourmet Hot Dogs Recipes - Brit _ Co.xml\n",
      "Image:C:\\Users\\ec201\\Desktop\\hotdog-classifer-api\\model_build\\images\\train\\Grilled Hot Dogs Recipe _ Food Network....jpeg -> Annotation:C:/Users/ec201/Desktop/hotdog-classifer-api/model_build/images/train/Grilled Hot Dogs Recipe _ Food Network....xml\n",
      "Image:C:\\Users\\ec201\\Desktop\\hotdog-classifer-api\\model_build\\images\\train\\Hot dog - Wikipedia.png -> Annotation:C:/Users/ec201/Desktop/hotdog-classifer-api/model_build/images/train/Hot dog - Wikipedia.xml\n",
      "Image:C:\\Users\\ec201\\Desktop\\hotdog-classifer-api\\model_build\\images\\train\\Hot Dog Bar _ 8 Fancy Hot Dogs.jpg -> Annotation:C:/Users/ec201/Desktop/hotdog-classifer-api/model_build/images/train/Hot Dog Bar _ 8 Fancy Hot Dogs.xml\n",
      "Image:C:\\Users\\ec201\\Desktop\\hotdog-classifer-api\\model_build\\images\\train\\Hot Dog Bun With Two Hot Dogs....jpg -> Annotation:C:/Users/ec201/Desktop/hotdog-classifer-api/model_build/images/train/Hot Dog Bun With Two Hot Dogs....xml\n",
      "Image:C:\\Users\\ec201\\Desktop\\hotdog-classifer-api\\model_build\\images\\train\\Hot Dog Chili for Chili Dogs Recipe....jpg -> Annotation:C:/Users/ec201/Desktop/hotdog-classifer-api/model_build/images/train/Hot Dog Chili for Chili Dogs Recipe....xml\n",
      "Image:C:\\Users\\ec201\\Desktop\\hotdog-classifer-api\\model_build\\images\\train\\Hot Dog Day Brings Deals at 7-Eleven....jpg -> Annotation:C:/Users/ec201/Desktop/hotdog-classifer-api/model_build/images/train/Hot Dog Day Brings Deals at 7-Eleven....xml\n",
      "Image:C:\\Users\\ec201\\Desktop\\hotdog-classifer-api\\model_build\\images\\train\\Hot Dog Ingredients Explained....jpg -> Annotation:C:/Users/ec201/Desktop/hotdog-classifer-api/model_build/images/train/Hot Dog Ingredients Explained....xml\n",
      "Image:C:\\Users\\ec201\\Desktop\\hotdog-classifer-api\\model_build\\images\\train\\Hot Dog Toppings that Put Ketchup....jpg -> Annotation:C:/Users/ec201/Desktop/hotdog-classifer-api/model_build/images/train/Hot Dog Toppings that Put Ketchup....xml\n",
      "Image:C:\\Users\\ec201\\Desktop\\hotdog-classifer-api\\model_build\\images\\train\\Hot Dog Truck in Newark....jpg -> Annotation:C:/Users/ec201/Desktop/hotdog-classifer-api/model_build/images/train/Hot Dog Truck in Newark....xml\n",
      "Image:C:\\Users\\ec201\\Desktop\\hotdog-classifer-api\\model_build\\images\\train\\Hot Dog With Crispy Fried Onions Recipe.jpg -> Annotation:C:/Users/ec201/Desktop/hotdog-classifer-api/model_build/images/train/Hot Dog With Crispy Fried Onions Recipe.xml\n",
      "Image:C:\\Users\\ec201\\Desktop\\hotdog-classifer-api\\model_build\\images\\train\\Hot Dog.jpg -> Annotation:C:/Users/ec201/Desktop/hotdog-classifer-api/model_build/images/train/Hot Dog.xml\n",
      "Image:C:\\Users\\ec201\\Desktop\\hotdog-classifer-api\\model_build\\images\\train\\Hot Dogs _ A&W Restaurants.png -> Annotation:C:/Users/ec201/Desktop/hotdog-classifer-api/model_build/images/train/Hot Dogs _ A&W Restaurants.xml\n",
      "Image:C:\\Users\\ec201\\Desktop\\hotdog-classifer-api\\model_build\\images\\train\\Hot Dogs and Sausages in Denver....jpg -> Annotation:C:/Users/ec201/Desktop/hotdog-classifer-api/model_build/images/train/Hot Dogs and Sausages in Denver....xml\n",
      "Image:C:\\Users\\ec201\\Desktop\\hotdog-classifer-api\\model_build\\images\\train\\Hot Dogs in a Pack_ but Only 8 Buns....jpg -> Annotation:C:/Users/ec201/Desktop/hotdog-classifer-api/model_build/images/train/Hot Dogs in a Pack_ but Only 8 Buns....xml\n",
      "Image:C:\\Users\\ec201\\Desktop\\hotdog-classifer-api\\model_build\\images\\train\\Hot Dogs in San Diego.jpg -> Annotation:C:/Users/ec201/Desktop/hotdog-classifer-api/model_build/images/train/Hot Dogs in San Diego.xml\n",
      "Cancel creation.\n",
      "Image:C:\\Users\\ec201\\Desktop\\hotdog-classifer-api\\model_build\\images\\train\\hot dogs is on a huge expansion....jpg -> Annotation:C:/Users/ec201/Desktop/hotdog-classifer-api/model_build/images/train/hot dogs is on a huge expansion....xml\n",
      "Image:C:\\Users\\ec201\\Desktop\\hotdog-classifer-api\\model_build\\images\\train\\Hot Dogs Shaped Like Hamburgers.jpg -> Annotation:C:/Users/ec201/Desktop/hotdog-classifer-api/model_build/images/train/Hot Dogs Shaped Like Hamburgers.xml\n",
      "Image:C:\\Users\\ec201\\Desktop\\hotdog-classifer-api\\model_build\\images\\train\\hot dogs with street-cart onions recipe....jpg -> Annotation:C:/Users/ec201/Desktop/hotdog-classifer-api/model_build/images/train/hot dogs with street-cart onions recipe....xml\n",
      "Image:C:\\Users\\ec201\\Desktop\\hotdog-classifer-api\\model_build\\images\\train\\Hot Dogs – Order Online _ Sonic Drive-In.png -> Annotation:C:/Users/ec201/Desktop/hotdog-classifer-api/model_build/images/train/Hot Dogs – Order Online _ Sonic Drive-In.xml\n",
      "Image:C:\\Users\\ec201\\Desktop\\hotdog-classifer-api\\model_build\\images\\train\\hot dogs_ according to a golf-club chef.jpg -> Annotation:C:/Users/ec201/Desktop/hotdog-classifer-api/model_build/images/train/hot dogs_ according to a golf-club chef.xml\n",
      "Cancel creation.\n",
      "Image:C:\\Users\\ec201\\Desktop\\hotdog-classifer-api\\model_build\\images\\train\\How to Cook from Fresh or Frozen Hot Dogs.jpg -> Annotation:C:/Users/ec201/Desktop/hotdog-classifer-api/model_build/images/train/How to Cook from Fresh or Frozen Hot Dogs.xml\n",
      "Cancel creation.\n",
      "Image:C:\\Users\\ec201\\Desktop\\hotdog-classifer-api\\model_build\\images\\train\\How to Cook Hot Dogs the Right Way....png -> Annotation:C:/Users/ec201/Desktop/hotdog-classifer-api/model_build/images/train/How to Cook Hot Dogs the Right Way....xml\n",
      "Image:C:\\Users\\ec201\\Desktop\\hotdog-classifer-api\\model_build\\images\\train\\How to Grill the Perfect Hot Dog.jpeg -> Annotation:C:/Users/ec201/Desktop/hotdog-classifer-api/model_build/images/train/How to Grill the Perfect Hot Dog.xml\n",
      "Image:C:\\Users\\ec201\\Desktop\\hotdog-classifer-api\\model_build\\images\\train\\Mexican Hot Dogs Recipe - NYT Cooking.jpg -> Annotation:C:/Users/ec201/Desktop/hotdog-classifer-api/model_build/images/train/Mexican Hot Dogs Recipe - NYT Cooking.xml\n",
      "Image:C:\\Users\\ec201\\Desktop\\hotdog-classifer-api\\model_build\\images\\train\\Mexican Style Hot Dogs.jpg -> Annotation:C:/Users/ec201/Desktop/hotdog-classifer-api/model_build/images/train/Mexican Style Hot Dogs.xml\n",
      "Image:C:\\Users\\ec201\\Desktop\\hotdog-classifer-api\\model_build\\images\\train\\Panchos Argentinos (Argentine-Style Hot....jpg -> Annotation:C:/Users/ec201/Desktop/hotdog-classifer-api/model_build/images/train/Panchos Argentinos (Argentine-Style Hot....xml\n",
      "Image:C:\\Users\\ec201\\Desktop\\hotdog-classifer-api\\model_build\\images\\train\\Patagonia Hot Dogs With Avocado Mayo....jpg -> Annotation:C:/Users/ec201/Desktop/hotdog-classifer-api/model_build/images/train/Patagonia Hot Dogs With Avocado Mayo....xml\n",
      "Image:C:\\Users\\ec201\\Desktop\\hotdog-classifer-api\\model_build\\images\\train\\Portillo_s_ Beef. Burgers. Salads ....jpg -> Annotation:C:/Users/ec201/Desktop/hotdog-classifer-api/model_build/images/train/Portillo_s_ Beef. Burgers. Salads ....xml\n",
      "Image:C:\\Users\\ec201\\Desktop\\hotdog-classifer-api\\model_build\\images\\train\\Slow Cooker BBQ Hot Dogs - Plain Chicken.jpg -> Annotation:C:/Users/ec201/Desktop/hotdog-classifer-api/model_build/images/train/Slow Cooker BBQ Hot Dogs - Plain Chicken.xml\n",
      "Image:C:\\Users\\ec201\\Desktop\\hotdog-classifer-api\\model_build\\images\\train\\Sunny Anderson_s BLT Hot Dogs Recipe.jpg -> Annotation:C:/Users/ec201/Desktop/hotdog-classifer-api/model_build/images/train/Sunny Anderson_s BLT Hot Dogs Recipe.xml\n",
      "Image:C:\\Users\\ec201\\Desktop\\hotdog-classifer-api\\model_build\\images\\train\\Ted_s Hot Dogs.png -> Annotation:C:/Users/ec201/Desktop/hotdog-classifer-api/model_build/images/train/Ted_s Hot Dogs.xml\n",
      "Image:C:\\Users\\ec201\\Desktop\\hotdog-classifer-api\\model_build\\images\\train\\Texas Tommy Hot Dogs Recipe....jpg -> Annotation:C:/Users/ec201/Desktop/hotdog-classifer-api/model_build/images/train/Texas Tommy Hot Dogs Recipe....xml\n",
      "Image:C:\\Users\\ec201\\Desktop\\hotdog-classifer-api\\model_build\\images\\train\\The Best Way to Grill Hot Dogs _ Kitchn.jpg -> Annotation:C:/Users/ec201/Desktop/hotdog-classifer-api/model_build/images/train/The Best Way to Grill Hot Dogs _ Kitchn.xml\n",
      "Image:C:\\Users\\ec201\\Desktop\\hotdog-classifer-api\\model_build\\images\\train\\The One Dish to Eat in Iceland _ Condé_yythk....jpg -> Annotation:C:/Users/ec201/Desktop/hotdog-classifer-api/model_build/images/train/The One Dish to Eat in Iceland _ Condé_yythk....xml\n",
      "Image:C:\\Users\\ec201\\Desktop\\hotdog-classifer-api\\model_build\\images\\train\\The Perfect Air Fryer Hot Dogs _ The....jpg -> Annotation:C:/Users/ec201/Desktop/hotdog-classifer-api/model_build/images/train/The Perfect Air Fryer Hot Dogs _ The....xml\n",
      "Image:C:\\Users\\ec201\\Desktop\\hotdog-classifer-api\\model_build\\images\\train\\These gourmet hot dogs and hamburgers....jpg -> Annotation:C:/Users/ec201/Desktop/hotdog-classifer-api/model_build/images/train/These gourmet hot dogs and hamburgers....xml\n",
      "Image:C:\\Users\\ec201\\Desktop\\hotdog-classifer-api\\model_build\\images\\train\\Vienna Beef Hot Dog Kit_ Tastes of Chicago.jpg -> Annotation:C:/Users/ec201/Desktop/hotdog-classifer-api/model_build/images/train/Vienna Beef Hot Dog Kit_ Tastes of Chicago.xml\n",
      "Cancel creation.\n",
      "Image:C:\\Users\\ec201\\Desktop\\hotdog-classifer-api\\model_build\\images\\train\\We Taste-Tested 10 Hot Dogs. Here Are ....jpg -> Annotation:C:/Users/ec201/Desktop/hotdog-classifer-api/model_build/images/train/We Taste-Tested 10 Hot Dogs. Here Are ....xml\n",
      "Image:C:\\Users\\ec201\\Desktop\\hotdog-classifer-api\\model_build\\images\\train\\What is a hot dog_ The history of how_yythkg....jpg -> Annotation:C:/Users/ec201/Desktop/hotdog-classifer-api/model_build/images/train/What is a hot dog_ The history of how_yythkg....xml\n",
      "Cancel creation.\n"
     ]
    }
   ],
   "source": [
    "!cd {LABELIMG_DIR} && python labelImg.py"
   ]
  },
  {
   "cell_type": "markdown",
   "id": "421c622d",
   "metadata": {},
   "source": [
    "## Compress Labelled Images    "
   ]
  },
  {
   "cell_type": "markdown",
   "id": "45672761",
   "metadata": {},
   "source": [
    "The non-destination inputs to tar have to be unix style paths. "
   ]
  },
  {
   "cell_type": "code",
   "execution_count": 71,
   "id": "009850d2",
   "metadata": {},
   "outputs": [],
   "source": [
    "p1 = os.path.join(IMG_DIR, 'images.tar.gz')\n",
    "p2 = 'images/train'\n",
    "p3 = 'images/test'\n",
    "!tar -czf {p1} {p2} {p3}"
   ]
  }
 ],
 "metadata": {
  "kernelspec": {
   "display_name": "glizzy",
   "language": "python",
   "name": "glizzy"
  },
  "language_info": {
   "codemirror_mode": {
    "name": "ipython",
    "version": 3
   },
   "file_extension": ".py",
   "mimetype": "text/x-python",
   "name": "python",
   "nbconvert_exporter": "python",
   "pygments_lexer": "ipython3",
   "version": "3.9.7"
  }
 },
 "nbformat": 4,
 "nbformat_minor": 5
}
